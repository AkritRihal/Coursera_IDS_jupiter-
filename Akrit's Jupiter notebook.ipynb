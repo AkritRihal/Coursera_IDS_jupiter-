{
 "cells": [
  {
   "cell_type": "markdown",
   "id": "0c8476e1",
   "metadata": {},
   "source": [
    "## Akrit's jupiter notebook"
   ]
  },
  {
   "cell_type": "markdown",
   "id": "bcf9cac8",
   "metadata": {},
   "source": [
    "Introduction:\n",
    "Data science is a multidisciplinary field that uses data analysis, statistical techniques, and machine learning to extract valuable insights and knowledge from large and complex datasets. It plays a pivotal role in solving real-world problems, making data-driven decisions, and predicting future trends. Data scientists employ a combination of programming, domain knowledge, and mathematical skills to uncover hidden patterns, support decision-making, and drive innovation in various industries."
   ]
  },
  {
   "cell_type": "markdown",
   "id": "d6a681ef",
   "metadata": {},
   "source": [
    "There are various languages that can be used for the tasks related to data scienec, few of them are mentioned below:\n",
    "\n",
    "1. Python: Widely used for its extensive libraries and frameworks, such as NumPy, pandas, scikit-learn, and TensorFlow.\n",
    "\n",
    "2. R: Known for its statistical and data analysis capabilities, with numerous packages like ggplot2 and dplyr.\n",
    "\n",
    "3. SQL (Structured Query Language): Essential for working with relational databases and querying structured data.\n",
    "\n",
    "4. Julia: Gaining popularity for high-performance scientific computing and data analysis.\n",
    "\n",
    "5. SAS: Commonly used in industries like healthcare and finance for statistical analysis.\n",
    "\n",
    "6. Java: Used for big data processing with libraries like Hadoop and Spark.\n",
    "\n",
    "7. Scala: Often used alongside Spark for big data and distributed computing.\n",
    "\n",
    "8. MATLAB: Frequently used in academia and industry for numerical computing and data analysis.\n",
    "\n",
    "9. Perl: Historically used for text processing and data manipulation, though its popularity has waned.\n",
    "\n",
    "10. Ruby: Used for web scraping, data cleaning, and scripting in data science projects."
   ]
  },
  {
   "cell_type": "markdown",
   "id": "a458da1e",
   "metadata": {},
   "source": [
    "Data science libraries are essential tools for working with data, conducting analyses, and building machine learning models. Here is a list of some commonly used data science libraries, primarily for the Python programming language:\n",
    "\n",
    "1. NumPy: Provides support for large, multi-dimensional arrays and matrices, along with a collection of mathematical functions.\n",
    "\n",
    "2. pandas: Offers data manipulation and analysis with data structures like DataFrames and Series.\n",
    "\n",
    "3. scikit-learn: A comprehensive library for machine learning that includes tools for classification, regression, clustering, dimensionality reduction, and more.\n",
    "\n",
    "4. TensorFlow: An open-source machine learning framework developed by Google for deep learning and neural networks.\n",
    "\n",
    "5. Keras: High-level neural networks API that runs on top of TensorFlow, Theano, or CNTK.\n",
    "\n",
    "6. PyTorch: Another popular deep learning framework known for its dynamic computation graphs and flexibility.\n",
    "\n",
    "7. Matplotlib: A versatile library for creating static, animated, and interactive visualizations in Python.\n",
    "\n",
    "8. Seaborn: Built on top of Matplotlib, it provides a high-level interface for creating informative and attractive statistical graphics.\n",
    "\n",
    "\n",
    "These libraries, among others, are crucial for different aspects of data science, from data manipulation and visualization to machine learning and deep learning. The specific libraries you use will depend on your project's requirements and goals.\n"
   ]
  },
  {
   "cell_type": "markdown",
   "id": "c3eaebaa",
   "metadata": {},
   "source": [
    "list of important and commonly used data science tools:\n",
    "\n",
    "| Category         | Tool                      | Description                                    |\n",
    "|------------------|---------------------------|------------------------------------------------|\n",
    "| **Data Analysis** | **Python Pandas**         | Data manipulation and analysis in Python.    |\n",
    "|                 | **Jupyter Notebook**       | Interactive data analysis and visualization. |\n",
    "| **Machine Learning** | **Scikit-learn**       | Machine learning library for Python.         |\n",
    "|                     | **TensorFlow**           | Open-source deep learning framework.         |\n",
    "| **Data Visualization** | **Matplotlib**       | Creating static and interactive visualizations. |\n",
    "|                        | **Tableau**           | Data visualization and interactive dashboards. |\n",
    "| **Version Control** | **Git**                | Distributed version control for code.        |\n",
    "| **Collaboration**  | **Slack**                 | Team collaboration and communication.       |\n",
    "|                   | **Microsoft Teams**       | Collaboration and communication platform.    |\n",
    "| **Cloud Services**  | **AWS**                   | Amazon Web Services for cloud computing.    |\n",
    "|                    | **GCP**                   | Google Cloud Platform for data services.     |\n",
    "|                    | **Azure**                 | Microsoft Azure for cloud-based data tools.  |\n",
    "| **Web Frameworks** | **Flask**                 | Lightweight web framework for Python.       |\n",
    "|                   | **Django**                | High-level web framework for Python.         |\n",
    "| **Data Storage**   | **SQL and NoSQL**         | Databases for structured and unstructured data. |\n",
    "|                   | **Hadoop HDFS**            | Distributed file system for big data.        |\n",
    "| **Containerization** | **Docker**              | Containerization for application deployment. |\n",
    "|                   | **Kubernetes**             | Container orchestration for scaling apps.   |\n"
   ]
  },
  {
   "cell_type": "markdown",
   "id": "e1f69f16",
   "metadata": {},
   "source": [
    "Arithmetic expressions are fundamental in mathematics and programming. They involve mathematical operations such as addition, subtraction, multiplication, and division to calculate values. Here are some examples of arithmetic expressions:\n",
    "\n",
    "Addition:\n",
    "\n",
    "2 + 3 equals 5\n",
    "12.5 + 7.3 equals 19.8\n",
    "\n",
    "Subtraction:\n",
    "\n",
    "10 - 4 equals 6\n",
    "15.6 - 2.2 equals 13.4\n",
    "\n",
    "Multiplication:\n",
    "\n",
    "5 * 4 equals 20\n",
    "3.5 * 2.5 equals 8.75\n",
    "\n",
    "Division:\n",
    "\n",
    "15 / 3 equals 5\n",
    "10.0 / 2.5 equals 4.0\n",
    "\n",
    "Exponents (Power):\n",
    "\n",
    "2 ** 3 represents 2 raised to the power of 3, which equals 8\n",
    "4 ** 0.5 represents the square root of 4, which equals 2"
   ]
  },
  {
   "cell_type": "code",
   "execution_count": 4,
   "id": "c617d9e6",
   "metadata": {},
   "outputs": [
    {
     "name": "stdout",
     "output_type": "stream",
     "text": [
      "The product of the numbers is:  20\n",
      "The sum of the numbers is:  13\n"
     ]
    }
   ],
   "source": [
    "# Multiplication of two numbers\n",
    "product = 5*4\n",
    "print(\"The product of the numbers is: \", product)\n",
    "\n",
    "# Addition\n",
    "sum = 5+8\n",
    "print(\"The sum of the numbers is: \", sum) "
   ]
  },
  {
   "cell_type": "code",
   "execution_count": 5,
   "id": "1b25da12",
   "metadata": {},
   "outputs": [
    {
     "name": "stdout",
     "output_type": "stream",
     "text": [
      "Hours:  5.0\n"
     ]
    }
   ],
   "source": [
    "# Input: Minutes\n",
    "minutes = 300\n",
    "\n",
    "# Conversion to Hours\n",
    "hours = minutes / 60\n",
    "\n",
    "# Output\n",
    "print(\"Hours: \",hours)\n"
   ]
  },
  {
   "cell_type": "markdown",
   "id": "9d3a3fe3",
   "metadata": {},
   "source": [
    "Objective:\n",
    "1. Create a jupiter notebook \n",
    "2. create markdowns\n",
    "3. Create cell with code\n",
    "4. Run the cells and get the output\n",
    "5. Upload to github"
   ]
  },
  {
   "cell_type": "markdown",
   "id": "ff24a703",
   "metadata": {},
   "source": [
    "Author: Akrit Rihal"
   ]
  },
  {
   "cell_type": "code",
   "execution_count": null,
   "id": "86b7e309",
   "metadata": {},
   "outputs": [],
   "source": []
  }
 ],
 "metadata": {
  "kernelspec": {
   "display_name": "Python 3 (ipykernel)",
   "language": "python",
   "name": "python3"
  },
  "language_info": {
   "codemirror_mode": {
    "name": "ipython",
    "version": 3
   },
   "file_extension": ".py",
   "mimetype": "text/x-python",
   "name": "python",
   "nbconvert_exporter": "python",
   "pygments_lexer": "ipython3",
   "version": "3.11.4"
  }
 },
 "nbformat": 4,
 "nbformat_minor": 5
}
